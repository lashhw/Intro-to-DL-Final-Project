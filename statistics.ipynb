{
  "nbformat": 4,
  "nbformat_minor": 0,
  "metadata": {
    "colab": {
      "name": "statistics.ipynb",
      "provenance": [],
      "collapsed_sections": []
    },
    "kernelspec": {
      "name": "python3",
      "display_name": "Python 3"
    },
    "language_info": {
      "name": "python"
    }
  },
  "cells": [
    {
      "cell_type": "code",
      "metadata": {
        "id": "mkqv_DC2NnAi"
      },
      "source": [
        "import xml.etree.ElementTree as ET\n",
        "import os\n",
        "from PIL import Image, ImageFont, ImageDraw, ImageEnhance\n",
        "import matplotlib.pyplot as plt\n",
        "import matplotlib.patches as patches\n",
        "import numpy as np\n",
        "from pathlib import Path"
      ],
      "execution_count": null,
      "outputs": []
    },
    {
      "cell_type": "code",
      "metadata": {
        "id": "e6LVHOVgOEZQ"
      },
      "source": [
        "ALL_CLASSES = [\"aquarium\", \"bottle\", \"bowl\", \"box\", \"bucket\", \"plastic_bag\", \"plate\", \"styrofoam\", \"tire\", \"toilet\", \"tub\", \"washing_machine\", \"water_tower\"]"
      ],
      "execution_count": null,
      "outputs": []
    },
    {
      "cell_type": "code",
      "metadata": {
        "id": "hRM_CM5vM46A"
      },
      "source": [
        "# train dataset\n",
        "!cp drive/MyDrive/作業/深度學習概論與應用/cdc/train_cdc.zip .\n",
        "!unzip -q train_cdc.zip"
      ],
      "execution_count": null,
      "outputs": []
    },
    {
      "cell_type": "code",
      "metadata": {
        "id": "byUnrSK0NpQK"
      },
      "source": [
        "def check_class(image_id):\n",
        "  in_file = open('train_cdc/train_annotations/%s.xml'%(image_id))\n",
        "  tree = ET.parse(in_file)\n",
        "  root = tree.getroot()\n",
        "  size = root.find('size')\n",
        "  w = int(size.find('width').text)\n",
        "  h = int(size.find('height').text)\n",
        "  global total_max_size, image_cnt\n",
        "  total_max_size += max(w, h)\n",
        "  image_cnt += 1\n",
        "  annotations = []\n",
        "  for obj in root.iter('object'):\n",
        "    cls = obj.find('name').text\n",
        "    if cls not in ALL_CLASSES:\n",
        "        print('%s ignored.'%cls)\n",
        "        continue\n",
        "    xmlbox = obj.find('bndbox')\n",
        "    b = [float(xmlbox.find('xmin').text),\n",
        "         float(xmlbox.find('ymin').text),\n",
        "         float(xmlbox.find('xmax').text),\n",
        "         float(xmlbox.find('ymax').text)]\n",
        "    annotations.append((cls, b))\n",
        "    train_distribution[cls] += 1\n",
        "  images_with_annotation.append((image_id, annotations))\n",
        "\n",
        "train_distribution = {x: 0 for x in ALL_CLASSES}\n",
        "images_with_annotation = []\n",
        "total_max_size = 0\n",
        "image_cnt = 0\n",
        "\n",
        "_, _, filenames = next(os.walk('train_cdc/train_images'))\n",
        "image_ids = [os.path.splitext(filename)[0] for filename in filenames]\n",
        "\n",
        "for image_id in image_ids:\n",
        "    check_class(image_id)"
      ],
      "execution_count": null,
      "outputs": []
    },
    {
      "cell_type": "code",
      "metadata": {
        "colab": {
          "base_uri": "https://localhost:8080/"
        },
        "id": "RnJsbscbNqTm",
        "outputId": "882b9607-a593-4509-a7b6-3165292c7d05"
      },
      "source": [
        "print(\"image count: {}\".format(image_cnt))\n",
        "average_max_size = int(total_max_size/image_cnt+.5)\n",
        "print(\"average max size: {}\".format(average_max_size))"
      ],
      "execution_count": null,
      "outputs": [
        {
          "output_type": "stream",
          "text": [
            "image count: 2671\n",
            "average max size: 438\n"
          ],
          "name": "stdout"
        }
      ]
    },
    {
      "cell_type": "code",
      "metadata": {
        "id": "fQhYB3J8QfMv"
      },
      "source": [
        "for img_id, annotations in images_with_annotation:\n",
        "  source_img = Image.open('train_cdc/train_images/{}.jpg'.format(img_id)).convert('RGB')\n",
        "  img = {x: source_img.copy() for x in ALL_CLASSES}\n",
        "  draw = {x: ImageDraw.Draw(img[x]) for x in ALL_CLASSES}\n",
        "  exist = set()\n",
        "  for cls, bbox in annotations:\n",
        "    draw[cls].rectangle(bbox, outline='red')\n",
        "    exist.add(cls)\n",
        "  for cls in exist:\n",
        "    dir_path = 'image_by_class/{}'.format(cls)\n",
        "    Path(dir_path).mkdir(parents=True, exist_ok=True)\n",
        "    img[cls].save('{}/{}.jpg'.format(dir_path, img_id))"
      ],
      "execution_count": null,
      "outputs": []
    },
    {
      "cell_type": "code",
      "metadata": {
        "id": "ykqOAbjiNtGu",
        "colab": {
          "base_uri": "https://localhost:8080/",
          "height": 209
        },
        "outputId": "afddc8b8-47d3-462b-ff47-2ad905032da1"
      },
      "source": [
        "total_instances = sum(train_distribution.values())\n",
        "plt.figure(figsize=(20, 5))\n",
        "plt.bar(range(len(ALL_CLASSES)), train_distribution.values())\n",
        "plt.xticks(range(len(ALL_CLASSES)), ALL_CLASSES)\n",
        "for idx, val in enumerate(train_distribution.values()):\n",
        "  plt.text(idx-.4, val+10, str(str(val)+'({:.2f}%)'.format(val/total_instances*100)))\n",
        "plt.show()"
      ],
      "execution_count": null,
      "outputs": [
        {
          "output_type": "display_data",
          "data": {
            "image/png": "[encoded data removed]",
            "text/plain": [
              "<Figure size 1440x360 with 1 Axes>"
            ]
          },
          "metadata": {
            "tags": [],
            "needs_background": "light"
          }
        }
      ]
    },
    {
      "cell_type": "code",
      "metadata": {
        "id": "crxx2ekdkRzU"
      },
      "source": [
        "!cp -r image_by_class drive/MyDrive/作業/深度學習概論與應用/cdc"
      ],
      "execution_count": null,
      "outputs": []
    }
  ]
}