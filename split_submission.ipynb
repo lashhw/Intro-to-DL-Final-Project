{
  "nbformat": 4,
  "nbformat_minor": 0,
  "metadata": {
    "colab": {
      "name": "split_submission.ipynb",
      "provenance": [],
      "collapsed_sections": []
    },
    "kernelspec": {
      "name": "python3",
      "display_name": "Python 3"
    },
    "language_info": {
      "name": "python"
    }
  },
  "cells": [
    {
      "cell_type": "markdown",
      "metadata": {
        "id": "8NDO_ojeBXcB"
      },
      "source": [
        "# Split"
      ]
    },
    {
      "cell_type": "code",
      "metadata": {
        "id": "Qc4tV2AAAiBl"
      },
      "source": [
        "SOURCE_CSV_FILENAME = 'submission-37.csv'\n",
        "OUTPUT_CSV_PREFIX = '37'\n",
        "CONF_THRESHOLD = 0.000001"
      ],
      "execution_count": null,
      "outputs": []
    },
    {
      "cell_type": "code",
      "metadata": {
        "id": "wtul1yLkByTS"
      },
      "source": [
        "import csv\n",
        "import pathlib"
      ],
      "execution_count": null,
      "outputs": []
    },
    {
      "cell_type": "code",
      "metadata": {
        "colab": {
          "base_uri": "https://localhost:8080/"
        },
        "id": "u3t9psj7-u4_",
        "outputId": "97710631-0007-4c43-fe50-5a22eff01b8a"
      },
      "source": [
        "predict_by_class = [[] for _ in range(13)]\n",
        "# in\n",
        "with open(SOURCE_CSV_FILENAME, 'r') as source_csv_file:\n",
        "  rows = csv.DictReader(source_csv_file)\n",
        "  for row in rows:\n",
        "    if float(row['confidence']) >= CONF_THRESHOLD:\n",
        "      class_id = int(row['label_id'])\n",
        "      predict_by_class[class_id-1].append(','.join(row.values()))\n",
        "# out\n",
        "pathlib.Path('out').mkdir(parents=True, exist_ok=True)\n",
        "for i in range(13):\n",
        "  with open('out/{}_{}.csv'.format(OUTPUT_CSV_PREFIX, i), 'w') as out_csv_file:\n",
        "    out_csv_file.write('image_filename,label_id,x,y,w,h,confidence\\n')\n",
        "    out_csv_file.write('\\n'.join(predict_by_class[i]))\n",
        "    out_csv_file.write('\\n')\n",
        "# zip folder\n",
        "!zip -r submission_by_class.zip out"
      ],
      "execution_count": null,
      "outputs": [
        {
          "output_type": "stream",
          "text": [
            "updating: out/ (stored 0%)\n",
            "  adding: out/37_10.csv (deflated 72%)\n",
            "  adding: out/37_0.csv (deflated 73%)\n",
            "  adding: out/37_11.csv (deflated 74%)\n",
            "  adding: out/37_4.csv (deflated 76%)\n",
            "  adding: out/37_1.csv (deflated 75%)\n",
            "  adding: out/37_8.csv (deflated 75%)\n",
            "  adding: out/37_2.csv (deflated 74%)\n",
            "  adding: out/37_5.csv (deflated 74%)\n",
            "  adding: out/37_9.csv (deflated 73%)\n",
            "  adding: out/37_12.csv (deflated 76%)\n",
            "  adding: out/37_3.csv (deflated 74%)\n",
            "  adding: out/37_7.csv (deflated 74%)\n",
            "  adding: out/37_6.csv (deflated 73%)\n"
          ],
          "name": "stdout"
        }
      ]
    },
    {
      "cell_type": "markdown",
      "metadata": {
        "id": "eYP7n83lHC35"
      },
      "source": [
        "# Merge"
      ]
    },
    {
      "cell_type": "code",
      "metadata": {
        "id": "ZkXHVcP_JB7N"
      },
      "source": [
        "!echo 'image_filename,label_id,x,y,w,h,confidence' > merged.csv"
      ],
      "execution_count": null,
      "outputs": []
    },
    {
      "cell_type": "code",
      "metadata": {
        "colab": {
          "base_uri": "https://localhost:8080/"
        },
        "id": "m8Kh5-IrI186",
        "outputId": "eba503ed-cf44-4977-d979-7e0768cce011"
      },
      "source": [
        "!tail -q -n +2 in/*.csv >> merged.csv"
      ],
      "execution_count": null,
      "outputs": [
        {
          "output_type": "stream",
          "text": [
            "tail: cannot open 'in/*.csv' for reading: No such file or directory\n"
          ],
          "name": "stdout"
        }
      ]
    }
  ]
}